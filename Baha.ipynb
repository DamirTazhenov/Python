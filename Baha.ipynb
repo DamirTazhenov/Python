{
 "cells": [
  {
   "cell_type": "code",
   "execution_count": 8,
   "metadata": {},
   "outputs": [
    {
     "name": "stdout",
     "output_type": "stream",
     "text": [
      "Alen, Bary, Gary, Lary ['Alen', 'Bary', 'Gary', 'Lary']\n"
     ]
    }
   ],
   "source": [
    "tickets = []\n",
    "temp = \"\"\n",
    "while temp!='КОНЕЦ':\n",
    "    temp= input()\n",
    "    tickets.append(temp.split(\"; \"))\n",
    "lucky_nums = list(map(str, input().split(\" \")))\n",
    "ans = []\n",
    "for i in lucky_nums:\n",
    "    for tick in range(len(tickets)-1):\n",
    "        if tickets[tick][1] == i:\n",
    "            ans.append(tickets[tick][0])\n",
    "            #print (tickets[tick][0])\n",
    "ans.sort()\n",
    "for i in ans:\n",
    "    if i == ans[len(ans)-1]:\n",
    "        print(i,end=\" \")\n",
    "    else:\n",
    "        print(i,end=\", \")\n",
    "#print(ans)\n",
    "#print(tickets)\n",
    "#print(lucky_nums)"
   ]
  },
  {
   "cell_type": "code",
   "execution_count": 17,
   "metadata": {},
   "outputs": [
    {
     "name": "stdout",
     "output_type": "stream",
     "text": [
      "{'Harry': [5, 6, 7, 3], 'Hemiona': [10, 10, 10, 10, 10], 'Ron': [6, 5, 4, 6, 5, 4], 'Ginny': [1, 3, 4, 5]}\n",
      "Harry [5, 6, 7, 3]\n",
      "Hemiona [10, 10, 10, 10, 10]\n",
      "Ron [6, 5, 4, 6, 5, 4]\n",
      "Ginny [1, 3, 4, 5]\n",
      "['Harry', 'Ginny']\n"
     ]
    }
   ],
   "source": [
    "def get_retakes(dictionar):\n",
    "    #print(dictionar)\n",
    "    answ = []\n",
    "    for name,marks in dictionar.items():\n",
    "        #print (name,marks)\n",
    "        for mark in marks:\n",
    "            if mark<4:\n",
    "                answ.append(name)\n",
    "                break\n",
    "    return answ\n",
    "dicti = {\n",
    "    'Harry': [5, 6, 7, 3],\n",
    "    'Hemiona': [10,10,10,10,10],\n",
    "    'Ron': [6,5,4,6,5,4],\n",
    "    'Ginny': [1,3,4,5]\n",
    "}\n",
    "print(get_retakes(dicti))\n"
   ]
  }
 ],
 "metadata": {
  "interpreter": {
   "hash": "cb4f07ade96758b4347288e02de28cef880b9e242ef15e323b3eeb280fc3f7a4"
  },
  "kernelspec": {
   "display_name": "Python 3.9.9 64-bit (windows store)",
   "language": "python",
   "name": "python3"
  },
  "language_info": {
   "codemirror_mode": {
    "name": "ipython",
    "version": 3
   },
   "file_extension": ".py",
   "mimetype": "text/x-python",
   "name": "python",
   "nbconvert_exporter": "python",
   "pygments_lexer": "ipython3",
   "version": "3.9.9"
  },
  "orig_nbformat": 4
 },
 "nbformat": 4,
 "nbformat_minor": 2
}

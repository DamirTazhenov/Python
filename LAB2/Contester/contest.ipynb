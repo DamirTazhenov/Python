{
 "cells": [
  {
   "cell_type": "code",
   "execution_count": 8,
   "metadata": {},
   "outputs": [
    {
     "name": "stdout",
     "output_type": "stream",
     "text": [
      "1\n"
     ]
    }
   ],
   "source": [
    "#task A\n",
    "inp = list(map(int,input().split()))\n",
    "if inp[0]!=0:\n",
    "    for i in range(1,len(inp)):\n",
    "     if (inp[i]==0) and (inp[i-1]<2):\n",
    "         print(0)\n",
    "         break\n",
    "    else:\n",
    "        print(1)"
   ]
  },
  {
   "cell_type": "code",
   "execution_count": 5,
   "metadata": {},
   "outputs": [
    {
     "name": "stdout",
     "output_type": "stream",
     "text": [
      "6\n"
     ]
    }
   ],
   "source": [
    "#task B\n",
    "n = int (input())\n",
    "inp = list(map(int,input().split()))\n",
    "inp.sort()\n",
    "print(inp[-1]*inp[-2])\n"
   ]
  },
  {
   "cell_type": "code",
   "execution_count": 39,
   "metadata": {},
   "outputs": [
    {
     "name": "stdout",
     "output_type": "stream",
     "text": [
      "0 1 2 \n",
      "1 1 0 \n",
      "2 0 4 \n"
     ]
    }
   ],
   "source": [
    "#task C\n",
    "n = int(input())\n",
    "ar = []\n",
    "for i in range(n):\n",
    "    rows = []\n",
    "    for j in range(n):\n",
    "        #print(\"i-\",i,\",j-\",j)\n",
    "        if i==0 and j!=0:\n",
    "            rows.append(j)\n",
    "        elif j==0 and i!=0:\n",
    "            rows.append(i)\n",
    "        elif i==j:\n",
    "            rows.append(i*i)\n",
    "        else:\n",
    "            rows.append(0)\n",
    "    ar.append(rows)\n",
    "    #print()\n",
    "#print (ar)\n",
    "for i in range(n):\n",
    "    for j in range(n):\n",
    "        print(ar[i][j],end=\" \")\n",
    "    print()"
   ]
  },
  {
   "cell_type": "code",
   "execution_count": 49,
   "metadata": {},
   "outputs": [
    {
     "name": "stdout",
     "output_type": "stream",
     "text": [
      "# . . . . . \n",
      "# # . . . . \n",
      "# # # . . . \n",
      "# # # # . . \n",
      "# # # # # . \n",
      "# # # # # # \n"
     ]
    }
   ],
   "source": [
    "#Task D\n",
    "n = int(input())\n",
    "ar = []\n",
    "for i in range(n):\n",
    "    rows = []\n",
    "    for j in range(n):\n",
    "        if (j<n-i-1):\n",
    "            rows.append('.')\n",
    "        else:\n",
    "            rows.append('#')\n",
    "    if (n%2==1):\n",
    "        ar.append(rows)\n",
    "    else:\n",
    "        rows.reverse()\n",
    "        ar.append(rows)\n",
    "    #print()\n",
    "#print (ar)\n",
    "for i in range(n):\n",
    "    for j in range(n):\n",
    "        print(ar[i][j],end=\" \")\n",
    "    print()"
   ]
  },
  {
   "cell_type": "code",
   "execution_count": 70,
   "metadata": {},
   "outputs": [
    {
     "name": "stdout",
     "output_type": "stream",
     "text": [
      "2\n"
     ]
    }
   ],
   "source": [
    "#Task E\n",
    "n,x = list(map(int,input().split()))\n",
    "#arr[i] = x + 2*i\n",
    "for i in range(n):\n",
    "    if i==0:\n",
    "        answ = x\n",
    "    else:\n",
    "     tmp = x + (2*i)\n",
    "     answ = (answ^tmp)\n",
    "print(answ)"
   ]
  },
  {
   "cell_type": "code",
   "execution_count": 11,
   "metadata": {},
   "outputs": [
    {
     "name": "stdout",
     "output_type": "stream",
     "text": [
      "<class 'list'>\n",
      "sto has to receive 200 tenge\n",
      "dvesti has to receive 100 tenge\n",
      "trista is lucky!\n"
     ]
    }
   ],
   "source": [
    "#task FFFF\n",
    "n= int(input())\n",
    "dicti = {}\n",
    "for i in range(n):\n",
    "    tmp_1,tmp_2 = input().split()\n",
    "    if tmp_1 in dicti: # if the same key is existed we just adding money to the balance else creating new record key:value\n",
    "        tmp_2_2 = int(dicti.get(tmp_1)) + int(tmp_2)#getting existing money and sum new value\n",
    "        dicti.update({tmp_1:tmp_2_2})\n",
    "    else:\n",
    "        dicti.update({tmp_1:tmp_2})\n",
    "sorted_keys = sorted(dicti, key=dicti.get) # getting list of sorted values\n",
    "#print(type(sorted_keys))\n",
    "max = sorted_keys[-1] # getting max value's name\n",
    "max_value = int(dicti.get(max)) #getting max value\n",
    "for i in sorted_keys:\n",
    "    if max!=i:\n",
    "     print(i,\"has to receive\", max_value-int(dicti.get(i)),\"tenge\")\n",
    "    else:\n",
    "     print(max,\"is lucky!\")\n",
    "#print(sorted_keys)\n",
    "        "
   ]
  },
  {
   "cell_type": "code",
   "execution_count": null,
   "metadata": {},
   "outputs": [],
   "source": [
    "#task G\n"
   ]
  }
 ],
 "metadata": {
  "interpreter": {
   "hash": "cb4f07ade96758b4347288e02de28cef880b9e242ef15e323b3eeb280fc3f7a4"
  },
  "kernelspec": {
   "display_name": "Python 3.9.9 64-bit (windows store)",
   "language": "python",
   "name": "python3"
  },
  "language_info": {
   "codemirror_mode": {
    "name": "ipython",
    "version": 3
   },
   "file_extension": ".py",
   "mimetype": "text/x-python",
   "name": "python",
   "nbconvert_exporter": "python",
   "pygments_lexer": "ipython3",
   "version": "3.9.9"
  },
  "orig_nbformat": 4
 },
 "nbformat": 4,
 "nbformat_minor": 2
}

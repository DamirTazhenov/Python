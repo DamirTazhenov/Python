{
 "cells": [
  {
   "cell_type": "code",
   "execution_count": 2,
   "metadata": {},
   "outputs": [
    {
     "name": "stdout",
     "output_type": "stream",
     "text": [
      "Good job!\n"
     ]
    }
   ],
   "source": [
    "a = int(input())\n",
    "print(~a)\n"
   ]
  },
  {
   "cell_type": "code",
   "execution_count": null,
   "metadata": {},
   "outputs": [],
   "source": [
    "n = input()\n",
    "sum = 0\n",
    "for i in n:\n",
    "    sum+=(ord(i))\n",
    "if sum>300:\n",
    "    print(\"It is tasty!\")\n",
    "else:\n",
    "    print(\"Oh, no!\")\n"
   ]
  },
  {
   "cell_type": "code",
   "execution_count": null,
   "metadata": {},
   "outputs": [],
   "source": [
    "i = input()\n",
    "print(i.lower())\n"
   ]
  },
  {
   "cell_type": "code",
   "execution_count": null,
   "metadata": {},
   "outputs": [],
   "source": [
    "def afterPoint(num, digits = 0):\n",
    "    return (f\"{num:.{digits}f}\")\n",
    "\n",
    "n = int(input())\n",
    "z = input()\n",
    "if (z == 'k'):\n",
    "    c = input()\n",
    "    print(afterPoint(n/1024,c))\n",
    "else:\n",
    "    print(n*1024)\n"
   ]
  },
  {
   "cell_type": "code",
   "execution_count": null,
   "metadata": {},
   "outputs": [],
   "source": [
    "inp = list(map(int,input().split()))\n",
    "flag = 1\n",
    "for i in range(2,inp[0]):\n",
    "    if inp[0]%i==0:\n",
    "     flag = 0\n",
    "if (inp[0]<501) and (flag==1) and (inp[1]%2==0):\n",
    "    print (\"Good job!\")\n",
    "else:\n",
    "    print (\"Try next time!\")\n"
   ]
  },
  {
   "cell_type": "markdown",
   "metadata": {},
   "source": [
    "для ввода в 1 строку нужно разделить input сплитом заворачивая в map а тот в свою очередь переодим в list для обращения по индексам"
   ]
  },
  {
   "cell_type": "code",
   "execution_count": null,
   "metadata": {},
   "outputs": [],
   "source": [
    "n = int(input())\n",
    "for i in range(n):\n",
    "    tmp = int(input())\n",
    "    if (tmp<=10):\n",
    "        print(\"Go to work!\")\n",
    "    elif (tmp<=25):\n",
    "        print(\"You are weak\")\n",
    "    elif (tmp<=45):\n",
    "        print(\"Okay, fine\")\n",
    "    else:\n",
    "        print(\"Burn! Burn! Burn Young!\")\n"
   ]
  },
  {
   "cell_type": "code",
   "execution_count": null,
   "metadata": {},
   "outputs": [],
   "source": [
    "word = input()\n",
    "letter = input()\n",
    "first = word.find(letter)\n",
    "last = word.rfind(letter)\n",
    "if (first==last):\n",
    " print(first)\n",
    "else:\n",
    " print(first,last)\n"
   ]
  },
  {
   "cell_type": "code",
   "execution_count": null,
   "metadata": {},
   "outputs": [],
   "source": [
    "n = int(input())\n",
    "for i in range(0,n):\n",
    "    tmp_word = input()\n",
    "    if (tmp_word.find(\"@gmail.com\")!=-1):\n",
    "        print(tmp_word.replace(\"@gmail.com\",\"\"))\n",
    "    \n",
    "    \n"
   ]
  },
  {
   "cell_type": "code",
   "execution_count": null,
   "metadata": {},
   "outputs": [],
   "source": [
    "inp = list(map(str,input().split()))\n",
    "for i in inp:\n",
    "    if len(i)>2:\n",
    "        print(i,end=\" \")\n"
   ]
  }
 ],
 "metadata": {
  "interpreter": {
   "hash": "cb4f07ade96758b4347288e02de28cef880b9e242ef15e323b3eeb280fc3f7a4"
  },
  "kernelspec": {
   "display_name": "Python 3.9.9 64-bit (windows store)",
   "language": "python",
   "name": "python3"
  },
  "language_info": {
   "codemirror_mode": {
    "name": "ipython",
    "version": 3
   },
   "file_extension": ".py",
   "mimetype": "text/x-python",
   "name": "python",
   "nbconvert_exporter": "python",
   "pygments_lexer": "ipython3",
   "version": "3.9.9"
  },
  "orig_nbformat": 4
 },
 "nbformat": 4,
 "nbformat_minor": 2
}

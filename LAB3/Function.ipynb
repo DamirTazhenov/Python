{
 "cells": [
  {
   "cell_type": "markdown",
   "metadata": {},
   "source": [
    "A recipe you are reading states how many grams you need for the ingredient. Unfortunately, your store only sells items in ounces. Create a function to convert grams to ounces. ounces = 28.3495231 * grams"
   ]
  },
  {
   "cell_type": "code",
   "execution_count": null,
   "metadata": {},
   "outputs": [],
   "source": [
    "def ounces(grams):\n",
    "    return 28.3495231 * grams\n",
    "print (ounces(100))"
   ]
  },
  {
   "cell_type": "markdown",
   "metadata": {},
   "source": [
    "Read in a Fahrenheit temperature. Calculate and display the equivalent centigrade temperature. The following formula is used for the conversion: C = (5 / 9) * (F – 32)"
   ]
  },
  {
   "cell_type": "code",
   "execution_count": null,
   "metadata": {},
   "outputs": [],
   "source": [
    "def to_cel(Farenheit):\n",
    "    C = (5 / 9) * (Farenheit - 32)\n",
    "    return C\n",
    "print (to_cel(125))"
   ]
  },
  {
   "cell_type": "markdown",
   "metadata": {},
   "source": [
    "Write a program to solve a classic puzzle: We count 35 heads and 94 legs among the chickens and rabbits in a farm. How many rabbits and how many chickens do we have? create function: solve(numheads, numlegs):"
   ]
  },
  {
   "cell_type": "code",
   "execution_count": 4,
   "metadata": {},
   "outputs": [
    {
     "name": "stdout",
     "output_type": "stream",
     "text": [
      "Rabbits - 12.0 , Chikens -  23.0\n"
     ]
    }
   ],
   "source": [
    "def solve(numheads, numlegs):\n",
    "    #c + r = 35\n",
    "    #2c + 4r = 94\n",
    "    #c = 47 - 2r\n",
    "    #47 - r = 35\n",
    "    #r = 47 - 35\n",
    "    #r = 12\n",
    "    #12 * 4 = 48\n",
    "    #94-48 = 46\n",
    "    #35 - 12 = 23\n",
    "    Chik = numlegs / 2 \n",
    "    rabbit = Chik - numheads\n",
    "    Chik = numheads - rabbit\n",
    "    print (\"Rabbits -\",rabbit,\", Chikens - \", Chik)\n",
    "if __name__ == \"__main__\":\n",
    "    solve(35,94)"
   ]
  },
  {
   "cell_type": "markdown",
   "metadata": {},
   "source": [
    "You are given list of numbers separated by spaces. Write a function filter_prime which will take list of numbers as an agrument and returns only prime numbers from the list."
   ]
  },
  {
   "cell_type": "code",
   "execution_count": 6,
   "metadata": {},
   "outputs": [
    {
     "name": "stdout",
     "output_type": "stream",
     "text": [
      "[1, 2, 29, 23]\n"
     ]
    }
   ],
   "source": [
    "def prime(unsorted_list = []):\n",
    "    answer = list(filter(lambda x:all(x % i !=0 for i in range(2,x)),unsorted_list))\n",
    "    return answer\n",
    "\n",
    "if __name__ == \"__main__\":\n",
    "    inp = list(map(int,input().split()))\n",
    "    print (prime(inp))"
   ]
  },
  {
   "cell_type": "markdown",
   "metadata": {},
   "source": [
    "Write a function that accepts string from user and print all permutations of that string."
   ]
  },
  {
   "cell_type": "code",
   "execution_count": 11,
   "metadata": {},
   "outputs": [
    {
     "name": "stdout",
     "output_type": "stream",
     "text": [
      "Damir\n",
      "Damri\n",
      "Daimr\n",
      "Dairm\n",
      "Darmi\n",
      "Darim\n",
      "Dmair\n",
      "Dmari\n",
      "Dmiar\n",
      "Dmira\n",
      "Dmrai\n",
      "Dmria\n",
      "Diamr\n",
      "Diarm\n",
      "Dimar\n",
      "Dimra\n",
      "Diram\n",
      "Dirma\n",
      "Drami\n",
      "Draim\n",
      "Drmai\n",
      "Drmia\n",
      "Driam\n",
      "Drima\n",
      "aDmir\n",
      "aDmri\n",
      "aDimr\n",
      "aDirm\n",
      "aDrmi\n",
      "aDrim\n",
      "amDir\n",
      "amDri\n",
      "amiDr\n",
      "amirD\n",
      "amrDi\n",
      "amriD\n",
      "aiDmr\n",
      "aiDrm\n",
      "aimDr\n",
      "aimrD\n",
      "airDm\n",
      "airmD\n",
      "arDmi\n",
      "arDim\n",
      "armDi\n",
      "armiD\n",
      "ariDm\n",
      "arimD\n",
      "mDair\n",
      "mDari\n",
      "mDiar\n",
      "mDira\n",
      "mDrai\n",
      "mDria\n",
      "maDir\n",
      "maDri\n",
      "maiDr\n",
      "mairD\n",
      "marDi\n",
      "mariD\n",
      "miDar\n",
      "miDra\n",
      "miaDr\n",
      "miarD\n",
      "mirDa\n",
      "miraD\n",
      "mrDai\n",
      "mrDia\n",
      "mraDi\n",
      "mraiD\n",
      "mriDa\n",
      "mriaD\n",
      "iDamr\n",
      "iDarm\n",
      "iDmar\n",
      "iDmra\n",
      "iDram\n",
      "iDrma\n",
      "iaDmr\n",
      "iaDrm\n",
      "iamDr\n",
      "iamrD\n",
      "iarDm\n",
      "iarmD\n",
      "imDar\n",
      "imDra\n",
      "imaDr\n",
      "imarD\n",
      "imrDa\n",
      "imraD\n",
      "irDam\n",
      "irDma\n",
      "iraDm\n",
      "iramD\n",
      "irmDa\n",
      "irmaD\n",
      "rDami\n",
      "rDaim\n",
      "rDmai\n",
      "rDmia\n",
      "rDiam\n",
      "rDima\n",
      "raDmi\n",
      "raDim\n",
      "ramDi\n",
      "ramiD\n",
      "raiDm\n",
      "raimD\n",
      "rmDai\n",
      "rmDia\n",
      "rmaDi\n",
      "rmaiD\n",
      "rmiDa\n",
      "rmiaD\n",
      "riDam\n",
      "riDma\n",
      "riaDm\n",
      "riamD\n",
      "rimDa\n",
      "rimaD\n"
     ]
    }
   ],
   "source": [
    "import itertools\n",
    "\n",
    "if __name__ == \"__main__\":\n",
    "    inp = input()\n",
    "    show = itertools.permutations(inp,len(inp))\n",
    "    for i in show:\n",
    "        words=\"\"\n",
    "        for word in i:\n",
    "            words+=word\n",
    "        print(words)"
   ]
  },
  {
   "cell_type": "markdown",
   "metadata": {},
   "source": [
    "Write a function that accepts string from user, return a sentence with the words reversed. We are ready -> ready are We"
   ]
  },
  {
   "cell_type": "code",
   "execution_count": 16,
   "metadata": {},
   "outputs": [
    {
     "name": "stdout",
     "output_type": "stream",
     "text": [
      "5 4 3 2 1 "
     ]
    }
   ],
   "source": [
    "inp = list(map(str,input().split(\" \")))\n",
    "inp.reverse()\n",
    "#[word for word in inp]\n",
    "for i in inp:\n",
    "    print(i, end=\" \")"
   ]
  },
  {
   "cell_type": "markdown",
   "metadata": {},
   "source": [
    "Given a list of ints, return True if the array contains a 3 next to a 3 somewhere."
   ]
  },
  {
   "cell_type": "code",
   "execution_count": null,
   "metadata": {},
   "outputs": [],
   "source": [
    "def has_33(list):\n",
    "    string = \"\"\n",
    "    for i in list:\n",
    "        string +=str(i)\n",
    "    find = string.find(\"33\")\n",
    "    if (find > 0):\n",
    "        return True\n",
    "    else:\n",
    "        return False\n",
    "inp = list(map(int,input().split()))\n",
    "print(has_33(inp))"
   ]
  }
 ],
 "metadata": {
  "interpreter": {
   "hash": "cb4f07ade96758b4347288e02de28cef880b9e242ef15e323b3eeb280fc3f7a4"
  },
  "kernelspec": {
   "display_name": "Python 3.9.9 64-bit (windows store)",
   "language": "python",
   "name": "python3"
  },
  "language_info": {
   "codemirror_mode": {
    "name": "ipython",
    "version": 3
   },
   "file_extension": ".py",
   "mimetype": "text/x-python",
   "name": "python",
   "nbconvert_exporter": "python",
   "pygments_lexer": "ipython3",
   "version": "3.9.9"
  },
  "orig_nbformat": 4
 },
 "nbformat": 4,
 "nbformat_minor": 2
}

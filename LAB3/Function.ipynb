{
 "cells": [
  {
   "cell_type": "markdown",
   "metadata": {},
   "source": [
    "A recipe you are reading states how many grams you need for the ingredient. Unfortunately, your store only sells items in ounces. Create a function to convert grams to ounces. ounces = 28.3495231 * grams"
   ]
  },
  {
   "cell_type": "code",
   "execution_count": null,
   "metadata": {},
   "outputs": [],
   "source": [
    "def ounces(grams):\n",
    "    return 28.3495231 * grams\n",
    "print (ounces(100))"
   ]
  },
  {
   "cell_type": "markdown",
   "metadata": {},
   "source": [
    "Read in a Fahrenheit temperature. Calculate and display the equivalent centigrade temperature. The following formula is used for the conversion: C = (5 / 9) * (F – 32)"
   ]
  },
  {
   "cell_type": "code",
   "execution_count": null,
   "metadata": {},
   "outputs": [],
   "source": [
    "def to_cel(Farenheit):\n",
    "    C = (5 / 9) * (Farenheit - 32)\n",
    "    return C\n",
    "print (to_cel(125))"
   ]
  },
  {
   "cell_type": "markdown",
   "metadata": {},
   "source": [
    "Write a program to solve a classic puzzle: We count 35 heads and 94 legs among the chickens and rabbits in a farm. How many rabbits and how many chickens do we have? create function: solve(numheads, numlegs):"
   ]
  },
  {
   "cell_type": "code",
   "execution_count": 4,
   "metadata": {},
   "outputs": [
    {
     "name": "stdout",
     "output_type": "stream",
     "text": [
      "Rabbits - 12.0 , Chikens -  23.0\n"
     ]
    }
   ],
   "source": [
    "def solve(numheads, numlegs):\n",
    "    #c + r = 35\n",
    "    #2c + 4r = 94\n",
    "    #c = 47 - 2r\n",
    "    #47 - r = 35\n",
    "    #r = 47 - 35\n",
    "    #r = 12\n",
    "    #12 * 4 = 48\n",
    "    #94-48 = 46\n",
    "    #35 - 12 = 23\n",
    "    Chik = numlegs / 2 \n",
    "    rabbit = Chik - numheads\n",
    "    Chik = numheads - rabbit\n",
    "    print (\"Rabbits -\",rabbit,\", Chikens - \", Chik)\n",
    "if __name__ == \"__main__\":\n",
    "    solve(35,94)"
   ]
  },
  {
   "cell_type": "markdown",
   "metadata": {},
   "source": [
    "You are given list of numbers separated by spaces. Write a function filter_prime which will take list of numbers as an agrument and returns only prime numbers from the list."
   ]
  },
  {
   "cell_type": "code",
   "execution_count": 6,
   "metadata": {},
   "outputs": [
    {
     "name": "stdout",
     "output_type": "stream",
     "text": [
      "[1, 2, 29, 23]\n"
     ]
    }
   ],
   "source": [
    "def prime(unsorted_list = []):\n",
    "    answer = list(filter(lambda x:all(x % i !=0 for i in range(2,x)),unsorted_list))\n",
    "    return answer\n",
    "\n",
    "if __name__ == \"__main__\":\n",
    "    inp = list(map(int,input().split()))\n",
    "    print (prime(inp))"
   ]
  },
  {
   "cell_type": "markdown",
   "metadata": {},
   "source": [
    "Write a function that accepts string from user and print all permutations of that string."
   ]
  },
  {
   "cell_type": "code",
   "execution_count": 11,
   "metadata": {},
   "outputs": [
    {
     "name": "stdout",
     "output_type": "stream",
     "text": [
      "Damir\n",
      "Damri\n",
      "Daimr\n",
      "Dairm\n",
      "Darmi\n",
      "Darim\n",
      "Dmair\n",
      "Dmari\n",
      "Dmiar\n",
      "Dmira\n",
      "Dmrai\n",
      "Dmria\n",
      "Diamr\n",
      "Diarm\n",
      "Dimar\n",
      "Dimra\n",
      "Diram\n",
      "Dirma\n",
      "Drami\n",
      "Draim\n",
      "Drmai\n",
      "Drmia\n",
      "Driam\n",
      "Drima\n",
      "aDmir\n",
      "aDmri\n",
      "aDimr\n",
      "aDirm\n",
      "aDrmi\n",
      "aDrim\n",
      "amDir\n",
      "amDri\n",
      "amiDr\n",
      "amirD\n",
      "amrDi\n",
      "amriD\n",
      "aiDmr\n",
      "aiDrm\n",
      "aimDr\n",
      "aimrD\n",
      "airDm\n",
      "airmD\n",
      "arDmi\n",
      "arDim\n",
      "armDi\n",
      "armiD\n",
      "ariDm\n",
      "arimD\n",
      "mDair\n",
      "mDari\n",
      "mDiar\n",
      "mDira\n",
      "mDrai\n",
      "mDria\n",
      "maDir\n",
      "maDri\n",
      "maiDr\n",
      "mairD\n",
      "marDi\n",
      "mariD\n",
      "miDar\n",
      "miDra\n",
      "miaDr\n",
      "miarD\n",
      "mirDa\n",
      "miraD\n",
      "mrDai\n",
      "mrDia\n",
      "mraDi\n",
      "mraiD\n",
      "mriDa\n",
      "mriaD\n",
      "iDamr\n",
      "iDarm\n",
      "iDmar\n",
      "iDmra\n",
      "iDram\n",
      "iDrma\n",
      "iaDmr\n",
      "iaDrm\n",
      "iamDr\n",
      "iamrD\n",
      "iarDm\n",
      "iarmD\n",
      "imDar\n",
      "imDra\n",
      "imaDr\n",
      "imarD\n",
      "imrDa\n",
      "imraD\n",
      "irDam\n",
      "irDma\n",
      "iraDm\n",
      "iramD\n",
      "irmDa\n",
      "irmaD\n",
      "rDami\n",
      "rDaim\n",
      "rDmai\n",
      "rDmia\n",
      "rDiam\n",
      "rDima\n",
      "raDmi\n",
      "raDim\n",
      "ramDi\n",
      "ramiD\n",
      "raiDm\n",
      "raimD\n",
      "rmDai\n",
      "rmDia\n",
      "rmaDi\n",
      "rmaiD\n",
      "rmiDa\n",
      "rmiaD\n",
      "riDam\n",
      "riDma\n",
      "riaDm\n",
      "riamD\n",
      "rimDa\n",
      "rimaD\n"
     ]
    }
   ],
   "source": [
    "import itertools\n",
    "\n",
    "if __name__ == \"__main__\":\n",
    "    inp = input()\n",
    "    show = itertools.permutations(inp,len(inp))\n",
    "    for i in show:\n",
    "        words=\"\"\n",
    "        for word in i:\n",
    "            words+=word\n",
    "        print(words)"
   ]
  },
  {
   "cell_type": "markdown",
   "metadata": {},
   "source": [
    "Write a function that accepts string from user, return a sentence with the words reversed. We are ready -> ready are We"
   ]
  },
  {
   "cell_type": "code",
   "execution_count": 16,
   "metadata": {},
   "outputs": [
    {
     "name": "stdout",
     "output_type": "stream",
     "text": [
      "5 4 3 2 1 "
     ]
    }
   ],
   "source": [
    "inp = list(map(str,input().split(\" \")))\n",
    "inp.reverse()\n",
    "#[word for word in inp]\n",
    "for i in inp:\n",
    "    print(i, end=\" \")"
   ]
  },
  {
   "cell_type": "markdown",
   "metadata": {},
   "source": [
    "Given a list of ints, return True if the array contains a 3 next to a 3 somewhere."
   ]
  },
  {
   "cell_type": "code",
   "execution_count": 21,
   "metadata": {},
   "outputs": [
    {
     "name": "stdout",
     "output_type": "stream",
     "text": [
      "True\n"
     ]
    }
   ],
   "source": [
    "def has_33(list):\n",
    "    string = \"\"\n",
    "    for i in list:\n",
    "        string +=str(i)\n",
    "    find = string.find(\"33\")\n",
    "    if (find > 0):\n",
    "        return True\n",
    "    else:\n",
    "        return False\n",
    "inp = list(map(int,input().split()))\n",
    "print(has_33(inp))"
   ]
  },
  {
   "cell_type": "markdown",
   "metadata": {},
   "source": [
    "def spy_game(nums):\n",
    "    pass\n",
    "\n",
    "spy_game([1,2,4,0,0,7,5]) --> True\n",
    "spy_game([1,0,2,4,0,5,7]) --> True\n",
    "spy_game([1,7,2,0,4,5,0]) --> False\n",
    "\n",
    "Write a function that takes in a list of integers and returns True if it contains 007 in order"
   ]
  },
  {
   "cell_type": "code",
   "execution_count": 4,
   "metadata": {},
   "outputs": [
    {
     "name": "stdout",
     "output_type": "stream",
     "text": [
      "0\n",
      "00\n",
      "007\n"
     ]
    },
    {
     "data": {
      "text/plain": [
       "True"
      ]
     },
     "execution_count": 4,
     "metadata": {},
     "output_type": "execute_result"
    }
   ],
   "source": [
    "def spy_game(nums = []):\n",
    "    complete = \"\"\n",
    "    for i in nums:\n",
    "        if len(complete)!=3:\n",
    "            if len(complete)==2 and i==7:\n",
    "                complete +=str(i)\n",
    "                #print(complete)\n",
    "            elif len(complete)<2 and i==0:\n",
    "                complete += str(i)\n",
    "                #print(complete)\n",
    "        else:\n",
    "            return True\n",
    "    else:\n",
    "        if len(complete)==3:\n",
    "            return True\n",
    "        else:\n",
    "            return False\n",
    "inp = list(map(int,input().split()))\n",
    "spy_game(inp)\n",
    "            "
   ]
  },
  {
   "cell_type": "markdown",
   "metadata": {},
   "source": [
    "Write a function that computes the volume of a sphere given its radius."
   ]
  },
  {
   "cell_type": "code",
   "execution_count": null,
   "metadata": {},
   "outputs": [],
   "source": [
    "def volume_sphere(radius):\n",
    "    return (4/3*3.14*(radius**3))\n",
    "rad = int(input())\n",
    "volume_sphere(rad)"
   ]
  },
  {
   "cell_type": "markdown",
   "metadata": {},
   "source": [
    "Write a Python function that takes a list and returns a new list with unique elements of the first list. Note: don't use collection set."
   ]
  },
  {
   "cell_type": "code",
   "execution_count": 6,
   "metadata": {},
   "outputs": [
    {
     "name": "stdout",
     "output_type": "stream",
     "text": [
      "[1, 2, 3, 123123, 1231232, 121, 132]\n"
     ]
    }
   ],
   "source": [
    "def not_set(list):\n",
    "    unique = []\n",
    "    for i in list:\n",
    "        if i in unique:\n",
    "            pass\n",
    "        else:\n",
    "            unique.append(i)\n",
    "    return unique\n",
    "inp = list(map(int,input().split()))\n",
    "uniq = not_set(inp)\n",
    "print(uniq)"
   ]
  },
  {
   "cell_type": "markdown",
   "metadata": {},
   "source": [
    "Write a Python function that checks whether a word or phrase is palindrome or not. Note: A palindrome is word, phrase, or sequence that reads the same backward as forward, e.g., madam"
   ]
  },
  {
   "cell_type": "code",
   "execution_count": 9,
   "metadata": {},
   "outputs": [
    {
     "name": "stdout",
     "output_type": "stream",
     "text": [
      "True\n"
     ]
    }
   ],
   "source": [
    "def is_plyndrome(word):\n",
    "    for i in range(int(len(word)/2)):\n",
    "        if word[i]!=word[-i-1]:\n",
    "            return False\n",
    "    else:\n",
    "        return True\n",
    "inp = input()\n",
    "print(is_plyndrome(inp))"
   ]
  },
  {
   "cell_type": "markdown",
   "metadata": {},
   "source": [
    "Define a functino histogram() that takes a list of integers and prints a histogram to the screen. For example, histogram([4, 9, 7]) should print the following:\n",
    "****\n",
    "*********\n",
    "*******"
   ]
  },
  {
   "cell_type": "code",
   "execution_count": 11,
   "metadata": {},
   "outputs": [
    {
     "name": "stdout",
     "output_type": "stream",
     "text": [
      "*\n",
      "**\n",
      "***\n",
      "***\n",
      "*\n",
      "**\n",
      "****\n"
     ]
    }
   ],
   "source": [
    "def histogram(list):\n",
    "    for i in list:\n",
    "        stars = \"*\"*i\n",
    "        print (stars)\n",
    "inp = list(map(int,input().split()))\n",
    "histogram(inp)"
   ]
  },
  {
   "cell_type": "markdown",
   "metadata": {},
   "source": [
    "Write a program able to play the \"Guess the number\" - game, where the number to be guessed is randomly chosen between 1 and 20. This is how it should work when run in a terminal:\n",
    "\n",
    "Hello! What is your name?\n",
    "KBTU\n",
    "\n",
    "Well, KBTU, I am thinking of a number between 1 and 20.\n",
    "Take a guess.\n",
    "12\n",
    "\n",
    "Your guess is too low.\n",
    "Take a guess.\n",
    "16\n",
    "\n",
    "Your guess is too low.\n",
    "Take a guess.\n",
    "19\n",
    "\n",
    "Good job, KBTU! You guessed my number in 3 guesses!"
   ]
  },
  {
   "cell_type": "code",
   "execution_count": 21,
   "metadata": {},
   "outputs": [
    {
     "name": "stdout",
     "output_type": "stream",
     "text": [
      "Hello! What is your name?\n",
      "Well,  Anel  I am thinking of a number between 1 and 20.\n",
      "Take a guess.\n",
      "Your guess is too low.\n",
      "Take a guess\n",
      "Your guess is too low.\n",
      "Take a guess\n",
      "Your guess is too low.\n",
      "Take a guess\n",
      "Your guess is too low.\n",
      "Take a guess\n",
      "Your guess is too low.\n",
      "Take a guess\n",
      "Your guess is too large.\n",
      "Take a guess\n",
      "Your guess is too large.\n",
      "Take a guess\n",
      "Good job, Anel! You guessed my number in 7 guesses!\n"
     ]
    }
   ],
   "source": [
    "import random\n",
    "def game(name):\n",
    "    print(\"Well, \",name,\" I am thinking of a number between 1 and 20.\")\n",
    "    print(\"Take a guess.\")\n",
    "    w_num = random.randint(1,20)\n",
    "    tmp = None\n",
    "    count = 0\n",
    "    while 1:\n",
    "        tmp = int(input())\n",
    "        if tmp>w_num:\n",
    "            print(\"Your guess is too large.\")\n",
    "        elif tmp<w_num:\n",
    "            print(\"Your guess is too low.\")\n",
    "        else:\n",
    "            print(\"Good job,\", name+\"!\", \"You guessed my number in\", count ,\"guesses!\")\n",
    "            return \n",
    "        count+=1\n",
    "        print(\"Take a guess\")\n",
    "\n",
    "if __name__ == \"__main__\":\n",
    "    print(\"Hello! What is your name?\")\n",
    "    name = input()\n",
    "    game(name)"
   ]
  },
  {
   "cell_type": "markdown",
   "metadata": {},
   "source": [
    "Create a python file and import some of the functions from the above 13 tasks and try to use them."
   ]
  },
  {
   "cell_type": "code",
   "execution_count": null,
   "metadata": {},
   "outputs": [],
   "source": []
  }
 ],
 "metadata": {
  "interpreter": {
   "hash": "cb4f07ade96758b4347288e02de28cef880b9e242ef15e323b3eeb280fc3f7a4"
  },
  "kernelspec": {
   "display_name": "Python 3.9.9 64-bit (windows store)",
   "language": "python",
   "name": "python3"
  },
  "language_info": {
   "codemirror_mode": {
    "name": "ipython",
    "version": 3
   },
   "file_extension": ".py",
   "mimetype": "text/x-python",
   "name": "python",
   "nbconvert_exporter": "python",
   "pygments_lexer": "ipython3",
   "version": "3.9.9"
  },
  "orig_nbformat": 4
 },
 "nbformat": 4,
 "nbformat_minor": 2
}

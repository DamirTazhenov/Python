{
 "cells": [
  {
   "cell_type": "markdown",
   "metadata": {},
   "source": [
    "Write a function that takes a single movie and returns True if its IMDB score is above 5.5"
   ]
  },
  {
   "cell_type": "code",
   "execution_count": 6,
   "metadata": {},
   "outputs": [
    {
     "name": "stdout",
     "output_type": "stream",
     "text": [
      "Hitman  is recommended to watch. It's IMDB is  6.3\n",
      "Film is not in kino catalogue!\n"
     ]
    }
   ],
   "source": [
    "import movies\n",
    "\n",
    "def check_rating(name):\n",
    "    for i in movies.movies:\n",
    "        if name == i.get(\"name\"):\n",
    "            if i.get(\"imdb\")>5.5:\n",
    "             print(name, \" is recommended to watch. It's IMDB is \", i.get(\"imdb\"))            \n",
    "            else:\n",
    "             print(name,\" has low rating in IMDB\")\n",
    "    else:\n",
    "        print (\"Film is not in kino catalogue!\")\n",
    "\n",
    "if __name__ == \"__main__\":\n",
    "    name = input()\n",
    "    check_rating(name)"
   ]
  },
  {
   "cell_type": "markdown",
   "metadata": {},
   "source": [
    "Write a function that returns a sublist of movies with an IMDB score above 5.5."
   ]
  },
  {
   "cell_type": "code",
   "execution_count": 21,
   "metadata": {},
   "outputs": [
    {
     "name": "stdout",
     "output_type": "stream",
     "text": [
      "Name -  Dark Knight\n",
      "IMDB rating -  9.0\n",
      "Category -  Adventure\n",
      "\n",
      "Name -  The Help\n",
      "IMDB rating -  8.0\n",
      "Category -  Drama\n",
      "\n",
      "Name -  Colonia\n",
      "IMDB rating -  7.4\n",
      "Category -  Romance\n",
      "\n",
      "Name -  Joking muck\n",
      "IMDB rating -  7.2\n",
      "Category -  Comedy\n",
      "\n",
      "Name -  What is the name\n",
      "IMDB rating -  9.2\n",
      "Category -  Suspense\n",
      "\n",
      "Name -  We Two\n",
      "IMDB rating -  7.2\n",
      "Category -  Romance\n",
      "\n"
     ]
    }
   ],
   "source": [
    "import movies\n",
    "import print_movies\n",
    "\n",
    "def high_ranked(rating):\n",
    "    filtered_movies = []\n",
    "    for i in movies.movies:\n",
    "        if i.get('imdb') > rating:\n",
    "            filtered_movies.append(i)\n",
    "    return filtered_movies\n",
    "if __name__ == \"__main__\":\n",
    "    print_movies.print_films(high_ranked(7.0))"
   ]
  },
  {
   "cell_type": "markdown",
   "metadata": {},
   "source": [
    "Write a function that takes a category name and returns just those movies under that category."
   ]
  },
  {
   "cell_type": "code",
   "execution_count": 22,
   "metadata": {},
   "outputs": [
    {
     "name": "stdout",
     "output_type": "stream",
     "text": [
      "Name -  The Choice\n",
      "IMDB rating -  6.2\n",
      "Category -  Romance\n",
      "\n",
      "Name -  Colonia\n",
      "IMDB rating -  7.4\n",
      "Category -  Romance\n",
      "\n",
      "Name -  Love\n",
      "IMDB rating -  6.0\n",
      "Category -  Romance\n",
      "\n",
      "Name -  Bride Wars\n",
      "IMDB rating -  5.4\n",
      "Category -  Romance\n",
      "\n",
      "Name -  We Two\n",
      "IMDB rating -  7.2\n",
      "Category -  Romance\n",
      "\n"
     ]
    }
   ],
   "source": [
    "import movies\n",
    "import print_movies\n",
    "\n",
    "def return_category(name):\n",
    "    filtered_list = []\n",
    "    for i in movies.movies:\n",
    "        if i.get(\"category\")==name:\n",
    "            filtered_list.append(i)\n",
    "    return filtered_list\n",
    "\n",
    "if __name__ == \"__main__\":\n",
    "    inp = input()\n",
    "    print_movies.print_films(return_category(inp))"
   ]
  },
  {
   "cell_type": "markdown",
   "metadata": {},
   "source": [
    "Write a function that takes a list of movies and computes the average IMDB score."
   ]
  },
  {
   "cell_type": "code",
   "execution_count": 12,
   "metadata": {},
   "outputs": [
    {
     "name": "stdout",
     "output_type": "stream",
     "text": [
      "6.486666666666667\n"
     ]
    }
   ],
   "source": [
    "import movies\n",
    "\n",
    "def average_IMDB(list_movies):\n",
    "    average = 0\n",
    "    for i in list_movies:\n",
    "        average+=i.get(\"imdb\")\n",
    "    return average/len(list_movies)\n",
    "\n",
    "if __name__ == \"__main__\":\n",
    "    print(average_IMDB(movies.movies))"
   ]
  },
  {
   "cell_type": "markdown",
   "metadata": {},
   "source": [
    "Write a function that takes a category and computes the average IMDB score."
   ]
  },
  {
   "cell_type": "code",
   "execution_count": 16,
   "metadata": {},
   "outputs": [
    {
     "name": "stdout",
     "output_type": "stream",
     "text": [
      "6.44\n"
     ]
    }
   ],
   "source": [
    "import movies\n",
    "\n",
    "def average_IMDB_category(list_movies,category):\n",
    "    average = 0\n",
    "    count = 0\n",
    "    for i in list_movies:\n",
    "        if i.get(\"category\")==category:\n",
    "            count+=1\n",
    "            average+=i.get(\"imdb\")\n",
    "    return average/count\n",
    "\n",
    "if __name__ == \"__main__\":\n",
    "    category = input()\n",
    "    print(average_IMDB_category(movies.movies,category))"
   ]
  }
 ],
 "metadata": {
  "interpreter": {
   "hash": "cb4f07ade96758b4347288e02de28cef880b9e242ef15e323b3eeb280fc3f7a4"
  },
  "kernelspec": {
   "display_name": "Python 3.9.9 64-bit (windows store)",
   "language": "python",
   "name": "python3"
  },
  "language_info": {
   "codemirror_mode": {
    "name": "ipython",
    "version": 3
   },
   "file_extension": ".py",
   "mimetype": "text/x-python",
   "name": "python",
   "nbconvert_exporter": "python",
   "pygments_lexer": "ipython3",
   "version": "3.9.9"
  },
  "orig_nbformat": 4
 },
 "nbformat": 4,
 "nbformat_minor": 2
}

{
 "cells": [
  {
   "cell_type": "markdown",
   "metadata": {},
   "source": [
    "Define a class which has at least two methods: getString: to get a string from console input printString: to print the string in upper case."
   ]
  },
  {
   "cell_type": "code",
   "execution_count": 5,
   "metadata": {},
   "outputs": [
    {
     "name": "stdout",
     "output_type": "stream",
     "text": [
      "DAMIR\n"
     ]
    }
   ],
   "source": [
    "class strings:\n",
    "    def __init__(self,string=\"\"):\n",
    "        self.string = string\n",
    "    \n",
    "    def getString(self):\n",
    "        self.string = input()\n",
    "    \n",
    "    def printUP(self):\n",
    "        print(self.string.upper())\n",
    "\n",
    "str = strings()\n",
    "str.getString()\n",
    "str.printUP()\n",
    "\n"
   ]
  },
  {
   "cell_type": "markdown",
   "metadata": {},
   "source": [
    "Define a class named Shape and its subclass Square. The Square class has an init function which takes a length as argument. Both classes have a area function which can print the area of the shape where Shape's area is 0 by default."
   ]
  },
  {
   "cell_type": "code",
   "execution_count": 24,
   "metadata": {},
   "outputs": [
    {
     "name": "stdout",
     "output_type": "stream",
     "text": [
      "10000\n",
      "0\n"
     ]
    }
   ],
   "source": [
    "class Shape:\n",
    "    area = 0\n",
    "    def __init__(self):\n",
    "        pass\n",
    "\n",
    "class Square(Shape):\n",
    "    def __init__(self,length= 0):\n",
    "        self.length = length\n",
    "    def calc_area(self):\n",
    "        self.area = self.length**2\n",
    "        print (self.area)\n",
    "\n",
    "\n",
    "req = Square(100)\n",
    "req.calc_area()\n",
    "req2 = Square()\n",
    "req2.calc_area()"
   ]
  },
  {
   "cell_type": "markdown",
   "metadata": {},
   "source": [
    "Define a class named Rectangle which inherits from Shape class from task 2. Class instance can be constructed by a length and width. The Rectangle class has a method which can compute the area."
   ]
  },
  {
   "cell_type": "code",
   "execution_count": 9,
   "metadata": {},
   "outputs": [
    {
     "name": "stdout",
     "output_type": "stream",
     "text": [
      "20000\n"
     ]
    }
   ],
   "source": [
    "class Shape:\n",
    "    def __init__(self,length=0,width=0):\n",
    "        self.length = length\n",
    "        self.width = width\n",
    "    def area(self):\n",
    "        print (self.length*self.width)\n",
    "class Reqtangle(Shape):\n",
    "    area = 0\n",
    "    def __init__(self,length,width):\n",
    "        super().__init__(length,width)\n",
    "    def computeArea(self):\n",
    "        self.area = self.length*self.width\n",
    "        return self.area\n",
    "if __name__ == \"__main__\":\n",
    "    req = Reqtangle(100, 200)\n",
    "    print(req.computeArea())"
   ]
  },
  {
   "cell_type": "markdown",
   "metadata": {},
   "source": [
    "Write the definition of a Point class. Objects from this class should have a\n",
    "\n",
    "a method show to display the coordinates of the point\n",
    "a method move to change these coordinates\n",
    "a method dist that computes the distance between 2 points"
   ]
  },
  {
   "cell_type": "code",
   "execution_count": 16,
   "metadata": {},
   "outputs": [
    {
     "name": "stdout",
     "output_type": "stream",
     "text": [
      "From  <__main__.Point object at 0x0000023555A1F4F0>  to  <__main__.Point object at 0x0000023555A1F9D0>  -  1.41  metres\n",
      "From  <__main__.Point object at 0x0000023555A1F4F0>  to  <__main__.Point object at 0x0000023555A1F9D0>  -  8.06  metres\n"
     ]
    }
   ],
   "source": [
    "class Point:\n",
    "    def __init__(self,x,y):\n",
    "        self.x = x\n",
    "        self.y = y\n",
    "    def change_coordinates(self,new_x,new_y):\n",
    "        self.x = new_x\n",
    "        self.y = new_y\n",
    "    def distance_to(Point_A,Point_B):\n",
    "        distance = ((Point_A.x - Point_B.x)**2 + (Point_A.y - Point_B.y)**2)**(1/2)\n",
    "        print (\"From \",Point_A,\" to \",Point_B,\" - \", f\"{distance:.{2}f}\",\" metres\")\n",
    "\n",
    "if __name__ == \"__main__\":\n",
    "    p_A = Point(1,1)\n",
    "    p_B = Point(2,2)\n",
    "    p_A.distance_to(p_B)\n",
    "    p_A.change_coordinates(3,10)\n",
    "    p_A.distance_to(p_B)"
   ]
  },
  {
   "cell_type": "markdown",
   "metadata": {},
   "source": [
    "Create a bank account class that has attributes owner, balance and two methods deposit and withdraw. Withdrawals may not exceed the available balance. Instantiate your class, make several deposits and withdrawals, and test to make sure the account can't be overdrawn."
   ]
  },
  {
   "cell_type": "code",
   "execution_count": 19,
   "metadata": {},
   "outputs": [
    {
     "name": "stdout",
     "output_type": "stream",
     "text": [
      "18000\n",
      "17800\n"
     ]
    }
   ],
   "source": [
    "class BankAccount:\n",
    "    def __init__(self,owner,balance):\n",
    "        self.owner = owner\n",
    "        self.balance = balance\n",
    "    def deposit(self,amount):\n",
    "        self.balance += amount\n",
    "    def widthdraw(self,amount):\n",
    "        if (amount<=self.balance):\n",
    "            self.balance-=amount\n",
    "        else:\n",
    "            return (\"It is not enough money to widthdraw\")\n",
    "if __name__ == \"__main__\":\n",
    "    Alm = BankAccount(\"Almaz\",3000)\n",
    "    Alm.deposit(15000)\n",
    "    print(Alm.balance)\n",
    "    Alm.widthdraw(200)\n",
    "    print(Alm.balance)"
   ]
  },
  {
   "cell_type": "markdown",
   "metadata": {},
   "source": [
    "Write a program which can filter prime numbers in a list by using filter function. Note: Use lambda to define anonymous functions."
   ]
  },
  {
   "cell_type": "code",
   "execution_count": 25,
   "metadata": {},
   "outputs": [
    {
     "name": "stdout",
     "output_type": "stream",
     "text": [
      "[1, 2, 1, 23, 5]\n"
     ]
    }
   ],
   "source": [
    "listochek = [1,2,100,1,23,4,5]\n",
    "prime = list(filter(lambda x:all(x % i !=0 for i in range(2,x)),listochek))\n",
    "print(prime)"
   ]
  }
 ],
 "metadata": {
  "interpreter": {
   "hash": "cb4f07ade96758b4347288e02de28cef880b9e242ef15e323b3eeb280fc3f7a4"
  },
  "kernelspec": {
   "display_name": "Python 3.9.9 64-bit (windows store)",
   "language": "python",
   "name": "python3"
  },
  "language_info": {
   "codemirror_mode": {
    "name": "ipython",
    "version": 3
   },
   "file_extension": ".py",
   "mimetype": "text/x-python",
   "name": "python",
   "nbconvert_exporter": "python",
   "pygments_lexer": "ipython3",
   "version": "3.9.9"
  },
  "orig_nbformat": 4
 },
 "nbformat": 4,
 "nbformat_minor": 2
}

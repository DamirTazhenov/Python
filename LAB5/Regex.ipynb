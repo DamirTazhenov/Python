{
 "cells": [
  {
   "cell_type": "markdown",
   "metadata": {},
   "source": [
    "Write a Python program that matches a string that has an 'a' followed by zero or more 'b''s."
   ]
  },
  {
   "cell_type": "code",
   "execution_count": 25,
   "metadata": {},
   "outputs": [
    {
     "name": "stdout",
     "output_type": "stream",
     "text": [
      "['a', 'a', 'a', 'abb', 'a', 'a', 'a', 'a', 'ab', 'a', 'a', 'abbb', 'abbb']\n"
     ]
    }
   ],
   "source": [
    "import re\n",
    "\n",
    "txt = \"aaaabbSpain aaaab baa abbb abbb\"\n",
    "x = re.findall(r\"ab*\", txt) #r отключение экранирования\n",
    "print (x)"
   ]
  },
  {
   "cell_type": "markdown",
   "metadata": {},
   "source": [
    "Write a Python program that matches a string that has an 'a' followed by two to three 'b'."
   ]
  },
  {
   "cell_type": "code",
   "execution_count": 15,
   "metadata": {},
   "outputs": [
    {
     "name": "stdout",
     "output_type": "stream",
     "text": [
      "['abbb']\n"
     ]
    }
   ],
   "source": [
    "import re\n",
    "\n",
    "txt = \"aaabbb\"\n",
    "x = re.findall(r\"ab{2,3}\",txt)\n",
    "print (x)"
   ]
  },
  {
   "cell_type": "markdown",
   "metadata": {},
   "source": [
    "Write a Python program to find sequences of lowercase letters joined with a underscore."
   ]
  },
  {
   "cell_type": "code",
   "execution_count": 22,
   "metadata": {},
   "outputs": [
    {
     "name": "stdout",
     "output_type": "stream",
     "text": [
      "['llllllsdadas_ljdqwuj', 'asdsa_da', 'a_ksdjlk']\n"
     ]
    }
   ],
   "source": [
    "import re\n",
    "\n",
    "txt = \"llllllsdadas_ljdqwuj ASSDKLAS_JDKL asdsa_da SALKDJAKLDJkaJa_ksdjlkASDJ\"\n",
    "result = re.findall(r\"^[a-z]+_[a-z]+$\",txt)\n",
    "print (result)"
   ]
  },
  {
   "cell_type": "markdown",
   "metadata": {},
   "source": [
    "Write a Python program to find the sequences of one upper case letter followed by lower case letters."
   ]
  },
  {
   "cell_type": "code",
   "execution_count": 23,
   "metadata": {},
   "outputs": [
    {
     "name": "stdout",
     "output_type": "stream",
     "text": [
      "['Adasda', 'Sdas', 'Dasdasd', 'Ddasdad']\n"
     ]
    }
   ],
   "source": [
    "import re\n",
    "\n",
    "txt = \"Adasda dDADSdas Dasdasd dwqeq ASD dsadasd ADSDdasdad\"\n",
    "result = re.findall(r\"[A-Z][a-z]+\",txt)\n",
    "print (result)"
   ]
  },
  {
   "cell_type": "markdown",
   "metadata": {},
   "source": [
    "Write a Python program that matches a string that has an 'a' followed by anything, ending in 'b'."
   ]
  },
  {
   "cell_type": "code",
   "execution_count": 53,
   "metadata": {},
   "outputs": [
    {
     "name": "stdout",
     "output_type": "stream",
     "text": [
      "['ab Adasda dDADSdas Dasdaaaaaabbbababasd abb abbabababababb dwqeq ASD ab aaaaabbbsdb']\n"
     ]
    }
   ],
   "source": [
    "import re\n",
    "\n",
    "txt = \"ab Adasda dDADSdas Dasdaaaaaabbbababasd abb abbabababababb dwqeq ASD ab aaaaabbbsdb dsadasd ADSDdasdad\"\n",
    "result = re.findall(r\"\\ba.*b\\b\",txt)\n",
    "print (result)"
   ]
  },
  {
   "cell_type": "markdown",
   "metadata": {},
   "source": [
    "Write a Python program to replace all occurrences of space, comma, or dot with a colon."
   ]
  },
  {
   "cell_type": "code",
   "execution_count": 64,
   "metadata": {},
   "outputs": [
    {
     "name": "stdout",
     "output_type": "stream",
     "text": [
      "ab:Adasda:DADSdas:Dasdaaaaaabbbababasd:abb:abbabababababb:dwqeq:ASD:ab:aaaaabbbsdb:dsadasd:ADSDdasdad\n"
     ]
    }
   ],
   "source": [
    "import re\n",
    "\n",
    "txt = \"ab Adasda,dDADSdas Dasdaaaaaabbbababasd abb abbabababababb dwqeq ASD ab aaaaabbbsdb dsadasd ADSDdasdad\"\n",
    "result = re.sub(r\",.| \",\":\",txt)\n",
    "print (result)"
   ]
  },
  {
   "cell_type": "markdown",
   "metadata": {},
   "source": [
    "Write a python program to convert snake case string to camel case string."
   ]
  },
  {
   "cell_type": "code",
   "execution_count": 14,
   "metadata": {},
   "outputs": [
    {
     "name": "stdout",
     "output_type": "stream",
     "text": [
      "['DasDsd', 'AsAsd', 'AsdaQewq']\n",
      "['Das_Dsd', 'as_asd', 'Asda_qewq']\n"
     ]
    }
   ],
   "source": [
    "import re\n",
    "def snake_to_camel(word):\n",
    "    x = word.split(\"_\")\n",
    "    returned_word = \"\"\n",
    "    for i in x:\n",
    "        returned_word +=i.capitalize()\n",
    "    return returned_word\n",
    "\n",
    "txt = \"Das_Dsd as_asd Asda_qewq\"\n",
    "result = re.findall(r\"[A-z]+_[A-z]+\",txt)\n",
    "answ = []\n",
    "for i in result:\n",
    "    answ.append(snake_to_camel(i))\n",
    "print (answ)\n",
    "print(result)"
   ]
  },
  {
   "cell_type": "markdown",
   "metadata": {},
   "source": [
    "Write a Python program to split a string at uppercase letters."
   ]
  },
  {
   "cell_type": "code",
   "execution_count": 95,
   "metadata": {},
   "outputs": [
    {
     "name": "stdout",
     "output_type": "stream",
     "text": [
      "['asdasd', 'asdasd', 'asdasdsa', '']\n"
     ]
    }
   ],
   "source": [
    "import re\n",
    "\n",
    "txt = \"asdasdAasdasdDasdasdsaS\"\n",
    "result = re.split(r\"[A-Z]\",txt)\n",
    "print (result)"
   ]
  },
  {
   "cell_type": "markdown",
   "metadata": {},
   "source": [
    "Write a Python program to insert spaces between words starting with capital letters."
   ]
  },
  {
   "cell_type": "code",
   "execution_count": 105,
   "metadata": {},
   "outputs": [
    {
     "name": "stdout",
     "output_type": "stream",
     "text": [
      "0\n",
      "0\n",
      "13\n",
      "22\n",
      "['A', 'A', 'D', 'S']\n"
     ]
    }
   ],
   "source": [
    "import re\n",
    "\n",
    "txt = \"AsdasdAasdasdDasdasdsaS\"\n",
    "result = re.findall(r\"[A-Z]\",txt)\n",
    "for i in result:\n",
    "    tmp = txt.find(i)\n",
    "    print(tmp)\n",
    "print (result)"
   ]
  },
  {
   "cell_type": "markdown",
   "metadata": {},
   "source": [
    "Write a Python program to insert spaces between words starting with capital letters."
   ]
  },
  {
   "cell_type": "code",
   "execution_count": 46,
   "metadata": {},
   "outputs": [
    {
     "name": "stdout",
     "output_type": "stream",
     "text": [
      "['Das Dsd', 'Ss Ssd', 'Asda Se Fwq']\n"
     ]
    }
   ],
   "source": [
    "import re\n",
    "def space_between(word):\n",
    "    tmp = re.findall(\"[A-Z][a-z]+\",word)\n",
    "    result = \"\"\n",
    "    for i in range(len(tmp)):\n",
    "        if (i!=0 and i!=len(tmp)):\n",
    "            result+=\" \"+tmp[i]\n",
    "        else:\n",
    "            result+=tmp[i]\n",
    "    return result\n",
    "\n",
    "txt = \"DasDsd SsSsd AsdaSeFwq\"\n",
    "result = re.findall(r\"[A-Za-z]+\",txt)\n",
    "answ = []\n",
    "for i in result:\n",
    "    answ.append(space_between(i))\n",
    "print (answ)"
   ]
  },
  {
   "cell_type": "markdown",
   "metadata": {},
   "source": [
    "Write a Python program to convert a given camel case string to snake case."
   ]
  },
  {
   "cell_type": "code",
   "execution_count": 45,
   "metadata": {},
   "outputs": [
    {
     "name": "stdout",
     "output_type": "stream",
     "text": [
      "['Das_Dsd', 'Ss_Ssd', 'Asda_Se_Fwq']\n"
     ]
    }
   ],
   "source": [
    "import re\n",
    "def camel_to_snake(word):\n",
    "    tmp = re.findall(\"[A-Z][a-z]+\",word)\n",
    "    result = \"\"\n",
    "    for i in range(len(tmp)):\n",
    "        if (i!=0 and i!=len(tmp)):\n",
    "            result+=\"_\"+tmp[i]\n",
    "        else:\n",
    "            result+=tmp[i]\n",
    "    return result\n",
    "\n",
    "txt = \"DasDsd SsSsd AsdaSeFwq\"\n",
    "result = re.findall(r\"[A-Za-z]+\",txt)\n",
    "answ = []\n",
    "for i in result:\n",
    "    answ.append(camel_to_snake(i))\n",
    "print (answ)\n",
    "#print(result)"
   ]
  }
 ],
 "metadata": {
  "interpreter": {
   "hash": "cb4f07ade96758b4347288e02de28cef880b9e242ef15e323b3eeb280fc3f7a4"
  },
  "kernelspec": {
   "display_name": "Python 3.9.9 64-bit (windows store)",
   "language": "python",
   "name": "python3"
  },
  "language_info": {
   "codemirror_mode": {
    "name": "ipython",
    "version": 3
   },
   "file_extension": ".py",
   "mimetype": "text/x-python",
   "name": "python",
   "nbconvert_exporter": "python",
   "pygments_lexer": "ipython3",
   "version": "3.9.9"
  },
  "orig_nbformat": 4
 },
 "nbformat": 4,
 "nbformat_minor": 2
}

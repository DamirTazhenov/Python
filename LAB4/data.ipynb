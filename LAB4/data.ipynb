{
 "cells": [
  {
   "cell_type": "markdown",
   "metadata": {},
   "source": [
    "Write a Python program to subtract five days from current date.\n"
   ]
  },
  {
   "cell_type": "code",
   "execution_count": null,
   "metadata": {},
   "outputs": [],
   "source": [
    "import datetime\n",
    "\n",
    "today = datetime.date.today()\n",
    "days = input(\"Input amount of days:\")\n",
    "delta = today - datetime.timedelta(int(days))\n",
    "print(delta)\n"
   ]
  },
  {
   "cell_type": "code",
   "execution_count": 15,
   "metadata": {},
   "outputs": [
    {
     "name": "stdout",
     "output_type": "stream",
     "text": [
      "2022-03-02\n"
     ]
    }
   ],
   "source": [
    "import datetime\n",
    "\n",
    "today = datetime.datetime.now()\n",
    "\n",
    "if int(today.year)%4==0:\n",
    "    month = [31,28,31,30,31,30,31,31,30,31,30,31]\n",
    "else:\n",
    "    month = [31,29,31,30,31,30,31,31,30,31,30,31]\n",
    "\n",
    "def return_back(days):\n",
    "    cur_days = -days\n",
    "    for i in range(1,month+1):\n",
    "        cur_days+=month[i]\n",
    "    for i in range(1,13):\n",
    "        if cur_days>0:\n",
    "            cur_days-month[i]\n",
    "        else:\n",
    "            cur_month = i\n",
    "            cur_day = abs(cur_days)\n",
    "    print(datetime.datetime.date)\n",
    "\n",
    "print(today.strftime(\"%d of %B\"))\n",
    "days = input(\"Input amount of days:\")"
   ]
  },
  {
   "cell_type": "markdown",
   "metadata": {},
   "source": [
    "Write a Python program to print yesterday, today, tomorrow."
   ]
  },
  {
   "cell_type": "code",
   "execution_count": 16,
   "metadata": {},
   "outputs": [
    {
     "name": "stdout",
     "output_type": "stream",
     "text": [
      "2022-03-03\n",
      "2022-03-04\n",
      "2022-03-05\n"
     ]
    }
   ],
   "source": [
    "from datetime import date,timedelta\n",
    "\n",
    "today = date.today()\n",
    "print(today - timedelta(1))\n",
    "print(today)\n",
    "print(today + timedelta(1))"
   ]
  },
  {
   "cell_type": "markdown",
   "metadata": {},
   "source": [
    "Write a Python program to drop microseconds from datetime."
   ]
  },
  {
   "cell_type": "code",
   "execution_count": 17,
   "metadata": {},
   "outputs": [
    {
     "name": "stdout",
     "output_type": "stream",
     "text": [
      "2022-03-04 01:33:37.292439\n",
      "Fri Mar  4 01:33:37 2022\n"
     ]
    }
   ],
   "source": [
    "import datetime\n",
    "\n",
    "today = datetime.datetime.now()\n",
    "print(today)\n",
    "print(today.strftime(\"%c\"))\n"
   ]
  },
  {
   "cell_type": "markdown",
   "metadata": {},
   "source": [
    "Write a Python program to calculate two date difference in seconds"
   ]
  },
  {
   "cell_type": "code",
   "execution_count": 20,
   "metadata": {},
   "outputs": [
    {
     "name": "stdout",
     "output_type": "stream",
     "text": [
      "difference between 2022-03-04 and 2022-07-05: 177120  seconds\n"
     ]
    }
   ],
   "source": [
    "from datetime import date,timedelta\n",
    "def time_del(date1,date2):\n",
    "    time_del = date1-date2\n",
    "    return abs(time_del.days * 24 * 60)\n",
    "date1 = date.today()\n",
    "date2 = date.today() + timedelta(2)\n",
    "date2 = date.today() + timedelta(123)\n",
    "print (\"difference between {} and {}:\".format(date1,date2),time_del(date1,date2),\" seconds\")\n"
   ]
  }
 ],
 "metadata": {
  "interpreter": {
   "hash": "cb4f07ade96758b4347288e02de28cef880b9e242ef15e323b3eeb280fc3f7a4"
  },
  "kernelspec": {
   "display_name": "Python 3.9.9 64-bit (windows store)",
   "language": "python",
   "name": "python3"
  },
  "language_info": {
   "codemirror_mode": {
    "name": "ipython",
    "version": 3
   },
   "file_extension": ".py",
   "mimetype": "text/x-python",
   "name": "python",
   "nbconvert_exporter": "python",
   "pygments_lexer": "ipython3",
   "version": "3.9.9"
  },
  "orig_nbformat": 4
 },
 "nbformat": 4,
 "nbformat_minor": 2
}

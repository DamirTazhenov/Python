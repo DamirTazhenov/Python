{
 "cells": [
  {
   "cell_type": "markdown",
   "metadata": {},
   "source": [
    "Write a Python program to convert degree to radian.\n",
    "Input degree: 15\n",
    "Output radian: 0.261904"
   ]
  },
  {
   "cell_type": "code",
   "execution_count": 3,
   "metadata": {},
   "outputs": [
    {
     "name": "stdout",
     "output_type": "stream",
     "text": [
      "0.2617993877991494\n"
     ]
    }
   ],
   "source": [
    "import math\n",
    "degree = int(input())\n",
    "print(math.radians(degree))"
   ]
  },
  {
   "cell_type": "markdown",
   "metadata": {},
   "source": [
    "Write a Python program to calculate the area of a trapezoid.\n",
    "Height: 5\n",
    "Base, first value: 5\n",
    "Base, second value: 6\n",
    "Expected Output: 27.5"
   ]
  },
  {
   "cell_type": "code",
   "execution_count": 4,
   "metadata": {},
   "outputs": [
    {
     "name": "stdout",
     "output_type": "stream",
     "text": [
      "27.5\n"
     ]
    }
   ],
   "source": [
    "heigh,base1,base2 = list(map(int,input().split()))\n",
    "area = (1/2)*((base1+base2)*heigh)\n",
    "print(area)"
   ]
  },
  {
   "cell_type": "markdown",
   "metadata": {},
   "source": [
    "Write a Python program to calculate the area of regular polygon.\n",
    "Input number of sides: 4\n",
    "Input the length of a side: 25\n",
    "The area of the polygon is: 625\n",
    "Area = (number of sides × length of one side × apothem)/2\n",
    "Apothem = [(length of one side)/{2 ×(tan(180/number of sides))}]."
   ]
  },
  {
   "cell_type": "code",
   "execution_count": 12,
   "metadata": {},
   "outputs": [
    {
     "name": "stdout",
     "output_type": "stream",
     "text": [
      "625.0\n"
     ]
    }
   ],
   "source": [
    "import math\n",
    "nsides,length = map(int,input().split())\n",
    "area = nsides * (length**2)/(4*math.tan(math.pi/nsides)) \n",
    "print (float('{:.3f}'.format(area)))"
   ]
  },
  {
   "cell_type": "markdown",
   "metadata": {},
   "source": [
    "Write a Python program to calculate the area of a parallelogram.\n",
    "Length of base: 5\n",
    "Height of parallelogram: 6\n",
    "Expected Output: 30.0"
   ]
  },
  {
   "cell_type": "code",
   "execution_count": 11,
   "metadata": {},
   "outputs": [
    {
     "name": "stdout",
     "output_type": "stream",
     "text": [
      "30\n"
     ]
    }
   ],
   "source": [
    "length,heigh = map(int,input().split())\n",
    "print(length*heigh)"
   ]
  }
 ],
 "metadata": {
  "interpreter": {
   "hash": "cb4f07ade96758b4347288e02de28cef880b9e242ef15e323b3eeb280fc3f7a4"
  },
  "kernelspec": {
   "display_name": "Python 3.9.9 64-bit (windows store)",
   "language": "python",
   "name": "python3"
  },
  "language_info": {
   "codemirror_mode": {
    "name": "ipython",
    "version": 3
   },
   "file_extension": ".py",
   "mimetype": "text/x-python",
   "name": "python",
   "nbconvert_exporter": "python",
   "pygments_lexer": "ipython3",
   "version": "3.9.9"
  },
  "orig_nbformat": 4
 },
 "nbformat": 4,
 "nbformat_minor": 2
}

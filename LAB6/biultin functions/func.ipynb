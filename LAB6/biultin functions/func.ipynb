{
 "cells": [
  {
   "cell_type": "markdown",
   "metadata": {},
   "source": [
    "Write a Python program with builtin function to multiply all the numbers in a list"
   ]
  },
  {
   "cell_type": "code",
   "execution_count": 1,
   "metadata": {},
   "outputs": [
    {
     "name": "stdout",
     "output_type": "stream",
     "text": [
      "362880\n"
     ]
    }
   ],
   "source": [
    "def multuply_list(list_num):\n",
    "    total = list_num[0]\n",
    "    for i in range(1,len(list_num)):\n",
    "        total *=list_num[i]\n",
    "    return total\n",
    "if __name__ == \"__main__\":\n",
    "    numbers = [1,2,3,4,5,6,7,8,9]\n",
    "    print(multuply_list(numbers))"
   ]
  },
  {
   "cell_type": "markdown",
   "metadata": {},
   "source": [
    "Write a Python program with builtin function that accepts a string and calculate the number of upper case letters and lower case letters"
   ]
  },
  {
   "cell_type": "code",
   "execution_count": 3,
   "metadata": {},
   "outputs": [
    {
     "name": "stdout",
     "output_type": "stream",
     "text": [
      "Upper case letters amount -  9 \n",
      "Lower case letters amount -  9\n"
     ]
    }
   ],
   "source": [
    "import re\n",
    "def determine_letters_case(string):\n",
    "    Upper = len(re.findall(\"[A-Z]\",string))\n",
    "    Lower = len(re.findall(\"[a-z]\",string))\n",
    "    print (\"Upper case letters amount - \",Upper,\"\\nLower case letters amount - \", Lower)\n",
    "if __name__ ==\"__main__\":\n",
    "    strinng = \"AAABBBSSSsssdddeee\"\n",
    "    determine_letters_case(strinng)"
   ]
  },
  {
   "cell_type": "markdown",
   "metadata": {},
   "source": [
    "Write a Python program with builtin function that checks whether a passed string is palindrome or not."
   ]
  },
  {
   "cell_type": "code",
   "execution_count": 9,
   "metadata": {},
   "outputs": [
    {
     "name": "stdout",
     "output_type": "stream",
     "text": [
      "True\n"
     ]
    }
   ],
   "source": [
    "def is_palyndrome(string):\n",
    "    for i in range(1,len(string)//2):\n",
    "        #print(string[i-1],\" - \",string[-i])\n",
    "        if string[i-1]!=string[-i]:\n",
    "            return False\n",
    "    else:\n",
    "        return True\n",
    "if __name__ == \"__main__\":\n",
    "    print(is_palyndrome(\"ADDA\"))"
   ]
  },
  {
   "cell_type": "markdown",
   "metadata": {},
   "source": [
    "Write a Python program that invoke square root function after specific milliseconds.\n",
    "import time\n",
    "sleep(3) sleep during 3 seconds\n",
    "1sec = 1000ms"
   ]
  },
  {
   "cell_type": "code",
   "execution_count": 11,
   "metadata": {},
   "outputs": [
    {
     "name": "stdout",
     "output_type": "stream",
     "text": [
      "10.0\n"
     ]
    }
   ],
   "source": [
    "from time import sleep\n",
    "def delay(function, ms, *args):\n",
    "    sleep(ms / 1000)\n",
    "    return (function(*args))\n",
    "if __name__ == \"__main__\":\n",
    "    ms = int(input(\"Ms:\"))\n",
    "    num = int(input(\"Num:\"))\n",
    "    print(delay(lambda x: x**(1/2),ms, num))"
   ]
  },
  {
   "cell_type": "markdown",
   "metadata": {},
   "source": [
    "Write a Python program with builtin function that returns True if all elements of the tuple are true."
   ]
  },
  {
   "cell_type": "code",
   "execution_count": 12,
   "metadata": {},
   "outputs": [
    {
     "name": "stdout",
     "output_type": "stream",
     "text": [
      "False\n",
      "True\n"
     ]
    }
   ],
   "source": [
    "some_tuple = (True, True, False)\n",
    "other_tuple = (True, True, True)\n",
    "print (all(some_tuple))\n",
    "print (all(other_tuple))"
   ]
  }
 ],
 "metadata": {
  "interpreter": {
   "hash": "cb4f07ade96758b4347288e02de28cef880b9e242ef15e323b3eeb280fc3f7a4"
  },
  "kernelspec": {
   "display_name": "Python 3.9.9 64-bit (windows store)",
   "language": "python",
   "name": "python3"
  },
  "language_info": {
   "codemirror_mode": {
    "name": "ipython",
    "version": 3
   },
   "file_extension": ".py",
   "mimetype": "text/x-python",
   "name": "python",
   "nbconvert_exporter": "python",
   "pygments_lexer": "ipython3",
   "version": "3.9.9"
  },
  "orig_nbformat": 4
 },
 "nbformat": 4,
 "nbformat_minor": 2
}

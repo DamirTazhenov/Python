{
 "cells": [
  {
   "cell_type": "markdown",
   "metadata": {},
   "source": [
    "Write a Python program to list only directories, files and all directories, files in a specified path."
   ]
  },
  {
   "cell_type": "code",
   "execution_count": 14,
   "metadata": {},
   "outputs": [
    {
     "name": "stdout",
     "output_type": "stream",
     "text": [
      "directories:\n",
      "1 Semester 2 Semester CODEFORCE job New folder PyCharm Python КБТУ Дормитори \n",
      "files:\n",
      "desktop.ini\n",
      "Мой билет _ Tickets.kz 05,02,2022.pdf\n",
      "Мой билет _ Tickets.kz.pdf\n",
      "РУП ФИТ ВТиПО 2021-2022 уч.г..pdf\n",
      "\n",
      "all:\n",
      "1 Semester\n",
      "2 Semester\n",
      "CODEFORCE\n",
      "desktop.ini\n",
      "job\n",
      "New folder\n",
      "PyCharm\n",
      "Python\n",
      "КБТУ Дормитори\n",
      "Мой билет _ Tickets.kz 05,02,2022.pdf\n",
      "Мой билет _ Tickets.kz.pdf\n",
      "РУП ФИТ ВТиПО 2021-2022 уч.г..pdf\n"
     ]
    }
   ],
   "source": [
    "import os\n",
    "path = \"D:\\\\Study\\KBTU\"\n",
    "print(\"directories:\")\n",
    "#print([ name for name in os.listdir(path) if os.path.isdir(os.path.join(path, name)) ])\n",
    "for name in os.listdir(path):\n",
    "    #print (name)\n",
    "    if os.path.isdir(os.path.join(path,name)):\n",
    "        print(name, end=\" \")\n",
    "print (\"\\nfiles:\")\n",
    "for filename in os.listdir(path):\n",
    "    if not os.path.isdir(os.path.join(path,filename)):\n",
    "        print (filename)\n",
    "print(\"\\nall:\")\n",
    "for filename in os.listdir(path):\n",
    "    print(filename)"
   ]
  },
  {
   "cell_type": "markdown",
   "metadata": {},
   "source": [
    "Write a Python program to check for access to a specified path. Test the existence, readability, writability and executability of the specified path"
   ]
  },
  {
   "cell_type": "code",
   "execution_count": 15,
   "metadata": {},
   "outputs": [
    {
     "name": "stdout",
     "output_type": "stream",
     "text": [
      "Exist: True\n",
      "Readable: True\n",
      "Writable: True\n",
      "Executable: True\n"
     ]
    }
   ],
   "source": [
    "import os\n",
    "path = \"D:\\\\Study\\KBTU\"\n",
    "print('Exist:', os.access(path, os.F_OK))\n",
    "print('Readable:', os.access(path, os.R_OK))\n",
    "print('Writable:', os.access(path, os.W_OK))\n",
    "print('Executable:', os.access(path, os.X_OK))"
   ]
  },
  {
   "cell_type": "markdown",
   "metadata": {},
   "source": [
    "Write a Python program to test whether a given path exists or not. If the path exist find the filename and directory portion of the given path."
   ]
  },
  {
   "cell_type": "code",
   "execution_count": 16,
   "metadata": {},
   "outputs": [
    {
     "name": "stdout",
     "output_type": "stream",
     "text": [
      "KBTU\n",
      "D:\\Study\n"
     ]
    }
   ],
   "source": [
    "import os\n",
    "path = \"D:\\\\Study\\KBTU\"\n",
    "if (os.path.exists(path)):\n",
    "    print (os.path.basename(path))\n",
    "    print (os.path.dirname(path))\n",
    "else:\n",
    "    print(\"false\")"
   ]
  },
  {
   "cell_type": "markdown",
   "metadata": {},
   "source": [
    "Write a Python program to count the number of lines in a text file"
   ]
  },
  {
   "cell_type": "code",
   "execution_count": 22,
   "metadata": {},
   "outputs": [
    {
     "name": "stdout",
     "output_type": "stream",
     "text": [
      "d:\\Study\\KBTU\\2 Semester\\PP2\\LAB6\n",
      "id =  0  value =  1 line\n",
      "\n",
      "id =  1  value =  2 line\n",
      "\n",
      "id =  2  value =  I am a god\n",
      "\n",
      "id =  3  value =  we are batmans\n",
      "\n",
      "txt document amount of lines:  4\n"
     ]
    }
   ],
   "source": [
    "import os\n",
    "def len_file_line(fname):\n",
    "    with open(fname) as file:\n",
    "        for id, item in enumerate(file): #gets index and value\n",
    "            print (\"id = \",id,\" value = \",item)\n",
    "        return id+1\n",
    "show_cur_dir = os.getcwd()\n",
    "print(show_cur_dir)\n",
    "path = \"test.txt\"\n",
    "print(\"txt document amount of lines: \", len_file_line(path))       \n"
   ]
  },
  {
   "cell_type": "markdown",
   "metadata": {},
   "source": [
    "Write a Python program to write a list to a file.\n",
    "opne(\"filename\", \"mode\")\n",
    "mode:\n",
    "\n",
    "\"r\" - Read - Default value. Opens a file for reading, error if the file does not exist\n",
    "\n",
    "\"a\" - Append - Opens a file for appending, creates the file if it does not exist\n",
    "\n",
    "\"w\" - Write - Opens a file for writing, creates the file if it does not exist\n",
    "\n",
    "\"x\" - Create - Creates the specified file, returns an error if the file exists"
   ]
  },
  {
   "cell_type": "code",
   "execution_count": 25,
   "metadata": {},
   "outputs": [
    {
     "name": "stdout",
     "output_type": "stream",
     "text": [
      "Written succesfully!\n"
     ]
    }
   ],
   "source": [
    "ls = [\"one\", \"two\", \"three\"]\n",
    "with open(\"write.txt\",\"w\") as filename:\n",
    "    for i in ls:\n",
    "        filename.write(i+\"\\n\")\n",
    "    else:\n",
    "        print(\"Written succesfully!\")\n"
   ]
  },
  {
   "cell_type": "markdown",
   "metadata": {},
   "source": [
    "Write a Python program to generate 26 text files named A.txt, B.txt, and so on up to Z.txt"
   ]
  },
  {
   "cell_type": "code",
   "execution_count": 45,
   "metadata": {},
   "outputs": [
    {
     "name": "stdout",
     "output_type": "stream",
     "text": [
      "Alphabet/A\n",
      "Alphabet/A.txt was created succesfully!\n",
      "Alphabet/B\n",
      "Alphabet/B.txt was created succesfully!\n",
      "Alphabet/C\n",
      "Alphabet/C.txt was created succesfully!\n",
      "Alphabet/D\n",
      "Alphabet/D.txt was created succesfully!\n",
      "Alphabet/E\n",
      "Alphabet/E.txt was created succesfully!\n",
      "Alphabet/F\n",
      "Alphabet/F.txt was created succesfully!\n",
      "Alphabet/G\n",
      "Alphabet/G.txt was created succesfully!\n",
      "Alphabet/H\n",
      "Alphabet/H.txt was created succesfully!\n",
      "Alphabet/I\n",
      "Alphabet/I.txt was created succesfully!\n",
      "Alphabet/J\n",
      "Alphabet/J.txt was created succesfully!\n",
      "Alphabet/K\n",
      "Alphabet/K.txt was created succesfully!\n",
      "Alphabet/L\n",
      "Alphabet/L.txt was created succesfully!\n",
      "Alphabet/M\n",
      "Alphabet/M.txt was created succesfully!\n",
      "Alphabet/N\n",
      "Alphabet/N.txt was created succesfully!\n",
      "Alphabet/O\n",
      "Alphabet/O.txt was created succesfully!\n",
      "Alphabet/P\n",
      "Alphabet/P.txt was created succesfully!\n",
      "Alphabet/Q\n",
      "Alphabet/Q.txt was created succesfully!\n",
      "Alphabet/R\n",
      "Alphabet/R.txt was created succesfully!\n",
      "Alphabet/S\n",
      "Alphabet/S.txt was created succesfully!\n",
      "Alphabet/T\n",
      "Alphabet/T.txt was created succesfully!\n",
      "Alphabet/U\n",
      "Alphabet/U.txt was created succesfully!\n",
      "Alphabet/V\n",
      "Alphabet/V.txt was created succesfully!\n",
      "Alphabet/W\n",
      "Alphabet/W.txt was created succesfully!\n",
      "Alphabet/X\n",
      "Alphabet/X.txt was created succesfully!\n",
      "Alphabet/Y\n",
      "Alphabet/Y.txt was created succesfully!\n",
      "Alphabet/Z\n",
      "Alphabet/Z.txt was created succesfully!\n"
     ]
    }
   ],
   "source": [
    "for i in range(26):\n",
    "    file = ord(\"A\") + i\n",
    "    filename = \"Alphabet/\"+chr(file)\n",
    "    #print (filename)\n",
    "    with open(filename+\".txt\",\"w\"):\n",
    "        pass\n",
    "        print(filename+\".txt was created succesfully!\")"
   ]
  },
  {
   "cell_type": "markdown",
   "metadata": {},
   "source": [
    "Write a Python program to copy the contents of a file to another file"
   ]
  },
  {
   "cell_type": "code",
   "execution_count": 47,
   "metadata": {},
   "outputs": [
    {
     "name": "stdout",
     "output_type": "stream",
     "text": [
      "Succes!\n"
     ]
    }
   ],
   "source": [
    "with open(\"readwrite/read.txt\",\"r\") as readable_file:\n",
    " with open(\"readwrite/write.txt\",\"w\") as writeable_file:\n",
    "     for id, item in enumerate(readable_file):\n",
    "         writeable_file.write(item)\n",
    "     else:\n",
    "         print(\"Succes!\")"
   ]
  },
  {
   "cell_type": "markdown",
   "metadata": {},
   "source": [
    "Write a Python program to delete file by specified path. Before deleting check for access and whether a given path exists or not."
   ]
  },
  {
   "cell_type": "code",
   "execution_count": 49,
   "metadata": {},
   "outputs": [
    {
     "name": "stdout",
     "output_type": "stream",
     "text": [
      "Deleting was succesfully finished\n"
     ]
    }
   ],
   "source": [
    "import os\n",
    "path = \"delete_dir/file.doc\"\n",
    "#path = \"delete_dir/delete_dir\"\n",
    "if os.path.exists(path):\n",
    "    if os.path.isdir(path):\n",
    "        os.rmdir(path)\n",
    "    else:\n",
    "        os.remove(path)\n",
    "    print (\"Deleting was succesfully finished\")\n",
    "else:\n",
    "    print(\"The file does not exist\")"
   ]
  }
 ],
 "metadata": {
  "interpreter": {
   "hash": "cb4f07ade96758b4347288e02de28cef880b9e242ef15e323b3eeb280fc3f7a4"
  },
  "kernelspec": {
   "display_name": "Python 3.9.9 64-bit (windows store)",
   "language": "python",
   "name": "python3"
  },
  "language_info": {
   "codemirror_mode": {
    "name": "ipython",
    "version": 3
   },
   "file_extension": ".py",
   "mimetype": "text/x-python",
   "name": "python",
   "nbconvert_exporter": "python",
   "pygments_lexer": "ipython3",
   "version": "3.9.9"
  },
  "orig_nbformat": 4
 },
 "nbformat": 4,
 "nbformat_minor": 2
}
